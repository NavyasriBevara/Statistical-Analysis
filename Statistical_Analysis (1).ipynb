{
 "cells": [
  {
   "cell_type": "markdown",
   "id": "8b15d1f4-bb97-45b6-961a-2115b5437814",
   "metadata": {},
   "source": [
    "### Statistical Analysis in Python with Datasets"
   ]
  },
  {
   "cell_type": "markdown",
   "id": "f65e1189-36a6-40e3-9f67-4d67017ee24d",
   "metadata": {},
   "source": [
    "##### import libraries"
   ]
  },
  {
   "cell_type": "code",
   "execution_count": 4,
   "id": "872ec320-bc6d-49ef-81c7-72d19148852b",
   "metadata": {},
   "outputs": [],
   "source": [
    "import numpy as np\n",
    "import pandas as pd\n",
    "import matplotlib.pyplot as plt \n",
    "from scipy import stats\n",
    "import statsmodels.api as sm\n",
    "import warnings\n",
    "warnings.filterwarnings(\"ignore\")"
   ]
  },
  {
   "cell_type": "code",
   "execution_count": 5,
   "id": "27875093-8d33-47aa-b77d-0ccd47d6df9b",
   "metadata": {},
   "outputs": [],
   "source": [
    "#Reading Dataset \n",
    "df=pd.read_csv(r\"C:\\Users\\bevar\\Downloads\\medicine_Estimation_cost.csv\")"
   ]
  },
  {
   "cell_type": "code",
   "execution_count": 6,
   "id": "4bf8b21e-8692-4a59-9a8f-9ac6fa445bd6",
   "metadata": {},
   "outputs": [
    {
     "data": {
      "text/html": [
       "<div>\n",
       "<style scoped>\n",
       "    .dataframe tbody tr th:only-of-type {\n",
       "        vertical-align: middle;\n",
       "    }\n",
       "\n",
       "    .dataframe tbody tr th {\n",
       "        vertical-align: top;\n",
       "    }\n",
       "\n",
       "    .dataframe thead th {\n",
       "        text-align: right;\n",
       "    }\n",
       "</style>\n",
       "<table border=\"1\" class=\"dataframe\">\n",
       "  <thead>\n",
       "    <tr style=\"text-align: right;\">\n",
       "      <th></th>\n",
       "      <th>AGE</th>\n",
       "      <th>SEX</th>\n",
       "      <th>BMI</th>\n",
       "      <th>STUDENTS</th>\n",
       "      <th>SMOKING</th>\n",
       "      <th>FINE</th>\n",
       "    </tr>\n",
       "  </thead>\n",
       "  <tbody>\n",
       "    <tr>\n",
       "      <th>0</th>\n",
       "      <td>18</td>\n",
       "      <td>1</td>\n",
       "      <td>33.770</td>\n",
       "      <td>1</td>\n",
       "      <td>0</td>\n",
       "      <td>1725.55230</td>\n",
       "    </tr>\n",
       "    <tr>\n",
       "      <th>1</th>\n",
       "      <td>18</td>\n",
       "      <td>1</td>\n",
       "      <td>34.100</td>\n",
       "      <td>0</td>\n",
       "      <td>0</td>\n",
       "      <td>1137.01100</td>\n",
       "    </tr>\n",
       "    <tr>\n",
       "      <th>2</th>\n",
       "      <td>18</td>\n",
       "      <td>0</td>\n",
       "      <td>26.315</td>\n",
       "      <td>0</td>\n",
       "      <td>0</td>\n",
       "      <td>2198.18985</td>\n",
       "    </tr>\n",
       "    <tr>\n",
       "      <th>3</th>\n",
       "      <td>18</td>\n",
       "      <td>0</td>\n",
       "      <td>38.665</td>\n",
       "      <td>2</td>\n",
       "      <td>0</td>\n",
       "      <td>3393.35635</td>\n",
       "    </tr>\n",
       "    <tr>\n",
       "      <th>4</th>\n",
       "      <td>18</td>\n",
       "      <td>0</td>\n",
       "      <td>35.625</td>\n",
       "      <td>0</td>\n",
       "      <td>0</td>\n",
       "      <td>2211.13075</td>\n",
       "    </tr>\n",
       "    <tr>\n",
       "      <th>...</th>\n",
       "      <td>...</td>\n",
       "      <td>...</td>\n",
       "      <td>...</td>\n",
       "      <td>...</td>\n",
       "      <td>...</td>\n",
       "      <td>...</td>\n",
       "    </tr>\n",
       "    <tr>\n",
       "      <th>1333</th>\n",
       "      <td>64</td>\n",
       "      <td>0</td>\n",
       "      <td>31.825</td>\n",
       "      <td>2</td>\n",
       "      <td>0</td>\n",
       "      <td>16069.08475</td>\n",
       "    </tr>\n",
       "    <tr>\n",
       "      <th>1334</th>\n",
       "      <td>64</td>\n",
       "      <td>0</td>\n",
       "      <td>26.885</td>\n",
       "      <td>0</td>\n",
       "      <td>1</td>\n",
       "      <td>29330.98315</td>\n",
       "    </tr>\n",
       "    <tr>\n",
       "      <th>1335</th>\n",
       "      <td>64</td>\n",
       "      <td>1</td>\n",
       "      <td>26.410</td>\n",
       "      <td>0</td>\n",
       "      <td>0</td>\n",
       "      <td>14394.55790</td>\n",
       "    </tr>\n",
       "    <tr>\n",
       "      <th>1336</th>\n",
       "      <td>64</td>\n",
       "      <td>1</td>\n",
       "      <td>36.960</td>\n",
       "      <td>2</td>\n",
       "      <td>1</td>\n",
       "      <td>49577.66240</td>\n",
       "    </tr>\n",
       "    <tr>\n",
       "      <th>1337</th>\n",
       "      <td>64</td>\n",
       "      <td>1</td>\n",
       "      <td>23.760</td>\n",
       "      <td>0</td>\n",
       "      <td>1</td>\n",
       "      <td>26926.51440</td>\n",
       "    </tr>\n",
       "  </tbody>\n",
       "</table>\n",
       "<p>1338 rows × 6 columns</p>\n",
       "</div>"
      ],
      "text/plain": [
       "      AGE  SEX     BMI  STUDENTS  SMOKING         FINE\n",
       "0      18    1  33.770         1        0   1725.55230\n",
       "1      18    1  34.100         0        0   1137.01100\n",
       "2      18    0  26.315         0        0   2198.18985\n",
       "3      18    0  38.665         2        0   3393.35635\n",
       "4      18    0  35.625         0        0   2211.13075\n",
       "...   ...  ...     ...       ...      ...          ...\n",
       "1333   64    0  31.825         2        0  16069.08475\n",
       "1334   64    0  26.885         0        1  29330.98315\n",
       "1335   64    1  26.410         0        0  14394.55790\n",
       "1336   64    1  36.960         2        1  49577.66240\n",
       "1337   64    1  23.760         0        1  26926.51440\n",
       "\n",
       "[1338 rows x 6 columns]"
      ]
     },
     "execution_count": 6,
     "metadata": {},
     "output_type": "execute_result"
    }
   ],
   "source": [
    "df"
   ]
  },
  {
   "cell_type": "markdown",
   "id": "f55eddd4-8b50-45e2-931c-76be24de2399",
   "metadata": {},
   "source": [
    "##### First Five Rows"
   ]
  },
  {
   "cell_type": "code",
   "execution_count": 7,
   "id": "6850352d-4fc7-48ac-9c58-f018a88b8463",
   "metadata": {},
   "outputs": [
    {
     "data": {
      "text/html": [
       "<div>\n",
       "<style scoped>\n",
       "    .dataframe tbody tr th:only-of-type {\n",
       "        vertical-align: middle;\n",
       "    }\n",
       "\n",
       "    .dataframe tbody tr th {\n",
       "        vertical-align: top;\n",
       "    }\n",
       "\n",
       "    .dataframe thead th {\n",
       "        text-align: right;\n",
       "    }\n",
       "</style>\n",
       "<table border=\"1\" class=\"dataframe\">\n",
       "  <thead>\n",
       "    <tr style=\"text-align: right;\">\n",
       "      <th></th>\n",
       "      <th>AGE</th>\n",
       "      <th>SEX</th>\n",
       "      <th>BMI</th>\n",
       "      <th>STUDENTS</th>\n",
       "      <th>SMOKING</th>\n",
       "      <th>FINE</th>\n",
       "    </tr>\n",
       "  </thead>\n",
       "  <tbody>\n",
       "    <tr>\n",
       "      <th>0</th>\n",
       "      <td>18</td>\n",
       "      <td>1</td>\n",
       "      <td>33.770</td>\n",
       "      <td>1</td>\n",
       "      <td>0</td>\n",
       "      <td>1725.55230</td>\n",
       "    </tr>\n",
       "    <tr>\n",
       "      <th>1</th>\n",
       "      <td>18</td>\n",
       "      <td>1</td>\n",
       "      <td>34.100</td>\n",
       "      <td>0</td>\n",
       "      <td>0</td>\n",
       "      <td>1137.01100</td>\n",
       "    </tr>\n",
       "    <tr>\n",
       "      <th>2</th>\n",
       "      <td>18</td>\n",
       "      <td>0</td>\n",
       "      <td>26.315</td>\n",
       "      <td>0</td>\n",
       "      <td>0</td>\n",
       "      <td>2198.18985</td>\n",
       "    </tr>\n",
       "    <tr>\n",
       "      <th>3</th>\n",
       "      <td>18</td>\n",
       "      <td>0</td>\n",
       "      <td>38.665</td>\n",
       "      <td>2</td>\n",
       "      <td>0</td>\n",
       "      <td>3393.35635</td>\n",
       "    </tr>\n",
       "    <tr>\n",
       "      <th>4</th>\n",
       "      <td>18</td>\n",
       "      <td>0</td>\n",
       "      <td>35.625</td>\n",
       "      <td>0</td>\n",
       "      <td>0</td>\n",
       "      <td>2211.13075</td>\n",
       "    </tr>\n",
       "  </tbody>\n",
       "</table>\n",
       "</div>"
      ],
      "text/plain": [
       "   AGE  SEX     BMI  STUDENTS  SMOKING        FINE\n",
       "0   18    1  33.770         1        0  1725.55230\n",
       "1   18    1  34.100         0        0  1137.01100\n",
       "2   18    0  26.315         0        0  2198.18985\n",
       "3   18    0  38.665         2        0  3393.35635\n",
       "4   18    0  35.625         0        0  2211.13075"
      ]
     },
     "execution_count": 7,
     "metadata": {},
     "output_type": "execute_result"
    }
   ],
   "source": [
    "df.head()"
   ]
  },
  {
   "cell_type": "markdown",
   "id": "82fa4bee-d010-4ba0-abf5-4b1425428f58",
   "metadata": {},
   "source": [
    "### Mean"
   ]
  },
  {
   "cell_type": "code",
   "execution_count": 34,
   "id": "4e50bfe7-ccbe-417a-97a4-b6914c8e0c34",
   "metadata": {},
   "outputs": [
    {
     "data": {
      "text/plain": [
       "AGE            39.207025\n",
       "SEX             0.505232\n",
       "BMI            30.663397\n",
       "STUDENTS        1.094918\n",
       "SMOKING         0.204783\n",
       "FINE        13270.422265\n",
       "dtype: float64"
      ]
     },
     "execution_count": 34,
     "metadata": {},
     "output_type": "execute_result"
    }
   ],
   "source": [
    "df.mean()"
   ]
  },
  {
   "cell_type": "markdown",
   "id": "b2bfffb8-e527-4b9f-964b-a3388aaf4be9",
   "metadata": {},
   "source": [
    "### Median"
   ]
  },
  {
   "cell_type": "code",
   "execution_count": 9,
   "id": "61a4d4c3-d2be-4473-bc1d-486430feb8ff",
   "metadata": {},
   "outputs": [
    {
     "data": {
      "text/plain": [
       "AGE           39.000\n",
       "SEX            1.000\n",
       "BMI           30.400\n",
       "STUDENTS       1.000\n",
       "SMOKING        0.000\n",
       "FINE        9382.033\n",
       "dtype: float64"
      ]
     },
     "execution_count": 9,
     "metadata": {},
     "output_type": "execute_result"
    }
   ],
   "source": [
    "df.median()"
   ]
  },
  {
   "cell_type": "markdown",
   "id": "b1eb1e27-b341-4fa4-aaf7-5dc345fb7d5d",
   "metadata": {},
   "source": [
    "### Mode"
   ]
  },
  {
   "cell_type": "code",
   "execution_count": 10,
   "id": "73ab69c4-3423-49e7-84e7-1e05d2c6624f",
   "metadata": {},
   "outputs": [
    {
     "data": {
      "text/html": [
       "<div>\n",
       "<style scoped>\n",
       "    .dataframe tbody tr th:only-of-type {\n",
       "        vertical-align: middle;\n",
       "    }\n",
       "\n",
       "    .dataframe tbody tr th {\n",
       "        vertical-align: top;\n",
       "    }\n",
       "\n",
       "    .dataframe thead th {\n",
       "        text-align: right;\n",
       "    }\n",
       "</style>\n",
       "<table border=\"1\" class=\"dataframe\">\n",
       "  <thead>\n",
       "    <tr style=\"text-align: right;\">\n",
       "      <th></th>\n",
       "      <th>AGE</th>\n",
       "      <th>SEX</th>\n",
       "      <th>BMI</th>\n",
       "      <th>STUDENTS</th>\n",
       "      <th>SMOKING</th>\n",
       "      <th>FINE</th>\n",
       "    </tr>\n",
       "  </thead>\n",
       "  <tbody>\n",
       "    <tr>\n",
       "      <th>0</th>\n",
       "      <td>18</td>\n",
       "      <td>1</td>\n",
       "      <td>32.3</td>\n",
       "      <td>0</td>\n",
       "      <td>0</td>\n",
       "      <td>1639.5631</td>\n",
       "    </tr>\n",
       "  </tbody>\n",
       "</table>\n",
       "</div>"
      ],
      "text/plain": [
       "   AGE  SEX   BMI  STUDENTS  SMOKING       FINE\n",
       "0   18    1  32.3         0        0  1639.5631"
      ]
     },
     "execution_count": 10,
     "metadata": {},
     "output_type": "execute_result"
    }
   ],
   "source": [
    "df.mode()"
   ]
  },
  {
   "cell_type": "markdown",
   "id": "c199d8aa-29ba-45c6-a1b2-e4dd555f8e75",
   "metadata": {},
   "source": [
    "### Variance"
   ]
  },
  {
   "cell_type": "code",
   "execution_count": 11,
   "id": "a72c8267-ef12-425c-8a51-b228d3fe0fe4",
   "metadata": {},
   "outputs": [
    {
     "data": {
      "text/plain": [
       "AGE         1.974014e+02\n",
       "SEX         2.501596e-01\n",
       "BMI         3.718788e+01\n",
       "STUDENTS    1.453213e+00\n",
       "SMOKING     1.629689e-01\n",
       "FINE        1.466524e+08\n",
       "dtype: float64"
      ]
     },
     "execution_count": 11,
     "metadata": {},
     "output_type": "execute_result"
    }
   ],
   "source": [
    "df.var()"
   ]
  },
  {
   "cell_type": "markdown",
   "id": "1c866edb-7043-4245-8337-f9452e8f0fb7",
   "metadata": {},
   "source": [
    "### Standard Deviation"
   ]
  },
  {
   "cell_type": "code",
   "execution_count": 12,
   "id": "8350e04e-9f00-4f04-9f25-f73246efb5d0",
   "metadata": {},
   "outputs": [
    {
     "data": {
      "text/plain": [
       "AGE            14.049960\n",
       "SEX             0.500160\n",
       "BMI             6.098187\n",
       "STUDENTS        1.205493\n",
       "SMOKING         0.403694\n",
       "FINE        12110.011237\n",
       "dtype: float64"
      ]
     },
     "execution_count": 12,
     "metadata": {},
     "output_type": "execute_result"
    }
   ],
   "source": [
    "df.std()"
   ]
  },
  {
   "cell_type": "markdown",
   "id": "ad097b0e-5a1e-4b0d-8c9e-457a69e9bc39",
   "metadata": {},
   "source": [
    "### Kurtosis"
   ]
  },
  {
   "cell_type": "code",
   "execution_count": 13,
   "id": "b3d105cc-9777-4339-9f3a-cfcaa792ed34",
   "metadata": {},
   "outputs": [
    {
     "data": {
      "text/plain": [
       "AGE        -1.245088\n",
       "SEX        -2.002557\n",
       "BMI        -0.050732\n",
       "STUDENTS    0.202454\n",
       "SMOKING     0.145756\n",
       "FINE        1.606299\n",
       "dtype: float64"
      ]
     },
     "execution_count": 13,
     "metadata": {},
     "output_type": "execute_result"
    }
   ],
   "source": [
    "df.kurtosis()"
   ]
  },
  {
   "cell_type": "markdown",
   "id": "82d02e79-2e28-4277-9357-1fe8cfcde9b1",
   "metadata": {},
   "source": [
    "### Skewness"
   ]
  },
  {
   "cell_type": "code",
   "execution_count": 14,
   "id": "f7fca8db-ed49-49e8-aae4-f7014e1514e1",
   "metadata": {},
   "outputs": [
    {
     "data": {
      "text/plain": [
       "AGE         0.055673\n",
       "SEX        -0.020951\n",
       "BMI         0.284047\n",
       "STUDENTS    0.938380\n",
       "SMOKING     1.464766\n",
       "FINE        1.515880\n",
       "dtype: float64"
      ]
     },
     "execution_count": 14,
     "metadata": {},
     "output_type": "execute_result"
    }
   ],
   "source": [
    "df.skew()"
   ]
  },
  {
   "cell_type": "markdown",
   "id": "7520d6a7-4fb7-4c90-9d0b-e884c3c3e2bd",
   "metadata": {},
   "source": [
    "### Range"
   ]
  },
  {
   "cell_type": "code",
   "execution_count": 15,
   "id": "20982093-40b1-413a-a679-9915b2728009",
   "metadata": {},
   "outputs": [
    {
     "data": {
      "text/plain": [
       "AGE            46.00000\n",
       "SEX             1.00000\n",
       "BMI            37.17000\n",
       "STUDENTS        5.00000\n",
       "SMOKING         1.00000\n",
       "FINE        62648.55411\n",
       "dtype: float64"
      ]
     },
     "execution_count": 15,
     "metadata": {},
     "output_type": "execute_result"
    }
   ],
   "source": [
    "df.max()-df.min()"
   ]
  },
  {
   "cell_type": "markdown",
   "id": "0c0999a5-905f-4626-9559-3cfb6706cab1",
   "metadata": {},
   "source": [
    "### Inferential Statistics"
   ]
  },
  {
   "cell_type": "code",
   "execution_count": 18,
   "id": "414d1556-9178-413f-afd4-420e5779ba1f",
   "metadata": {},
   "outputs": [
    {
     "data": {
      "text/plain": [
       "0       33.770\n",
       "1       34.100\n",
       "2       26.315\n",
       "3       38.665\n",
       "4       35.625\n",
       "         ...  \n",
       "1333    31.825\n",
       "1334    26.885\n",
       "1335    26.410\n",
       "1336    36.960\n",
       "1337    23.760\n",
       "Name: BMI, Length: 1338, dtype: float64"
      ]
     },
     "execution_count": 18,
     "metadata": {},
     "output_type": "execute_result"
    }
   ],
   "source": [
    "BMI=df[\"BMI\"]\n",
    "BMI"
   ]
  },
  {
   "cell_type": "code",
   "execution_count": 19,
   "id": "bf73b10c-5e97-4690-baa7-b1c342ad821d",
   "metadata": {},
   "outputs": [],
   "source": [
    "population_mean = 0.03"
   ]
  },
  {
   "cell_type": "markdown",
   "id": "da082034-bcb5-4f7d-9dd3-54d0fbc347e3",
   "metadata": {},
   "source": [
    "### T-test,P-test"
   ]
  },
  {
   "cell_type": "code",
   "execution_count": 20,
   "id": "56f15013-e8d4-4ed1-9da5-a0a82d088629",
   "metadata": {},
   "outputs": [],
   "source": [
    "t_stat, p_value = stats.ttest_1samp(BMI, population_mean)"
   ]
  },
  {
   "cell_type": "code",
   "execution_count": 21,
   "id": "b013aa89-643d-4320-acce-1b4f0d78d4bf",
   "metadata": {},
   "outputs": [
    {
     "name": "stdout",
     "output_type": "stream",
     "text": [
      "T-Statistic: 183.7479415238182\n",
      "P-Value: 0.0\n"
     ]
    }
   ],
   "source": [
    "print(f\"T-Statistic: {t_stat}\")\n",
    "print(f\"P-Value: {p_value}\")"
   ]
  },
  {
   "cell_type": "markdown",
   "id": "23a637e9-dabb-463c-9ae1-059c1c72b97f",
   "metadata": {},
   "source": [
    "### Confidence Intervals"
   ]
  },
  {
   "cell_type": "code",
   "execution_count": 23,
   "id": "516c38b5-8b34-43ed-a6ec-04b945f84190",
   "metadata": {},
   "outputs": [],
   "source": [
    "sample_mean = np.mean(BMI)\n",
    "standard_error = stats.sem(BMI)"
   ]
  },
  {
   "cell_type": "markdown",
   "id": "eb3b1b3d-0578-4e48-b748-dce2639af24d",
   "metadata": {},
   "source": [
    "#### 95% Confidence Interval"
   ]
  },
  {
   "cell_type": "code",
   "execution_count": 26,
   "id": "a5fef9f1-d5d0-42b8-8421-208dc7a2bffe",
   "metadata": {},
   "outputs": [],
   "source": [
    "confidence_interval = stats.norm.interval(0.95, loc=sample_mean, scale=standard_error)"
   ]
  },
  {
   "cell_type": "code",
   "execution_count": 27,
   "id": "0d129fee-f890-4c45-9acb-c83e44ea4439",
   "metadata": {},
   "outputs": [
    {
     "name": "stdout",
     "output_type": "stream",
     "text": [
      "95% Confidence Interval for BMI: (30.336642971534822, 30.990150750438275)\n"
     ]
    }
   ],
   "source": [
    "print(f\"95% Confidence Interval for BMI: {confidence_interval}\")"
   ]
  },
  {
   "cell_type": "markdown",
   "id": "553ae48d-2d5e-484d-9e23-6994e8d1e287",
   "metadata": {},
   "source": [
    "#### 99% Confidence Interval"
   ]
  },
  {
   "cell_type": "code",
   "execution_count": 43,
   "id": "6c354ca8-1a7b-4403-b2f2-5a001862a7ee",
   "metadata": {},
   "outputs": [],
   "source": [
    "confidence_interval = stats.norm.interval(0.99, loc=sample_mean, scale=standard_error)"
   ]
  },
  {
   "cell_type": "code",
   "execution_count": 44,
   "id": "0a6216ff-8c10-476b-bfae-917600ec0ec9",
   "metadata": {},
   "outputs": [
    {
     "name": "stdout",
     "output_type": "stream",
     "text": [
      "99% Confidence Interval for BMI: (30.233969458168303, 31.092824263804793)\n"
     ]
    }
   ],
   "source": [
    "print(f\"99% Confidence Interval for BMI: {confidence_interval}\")"
   ]
  },
  {
   "cell_type": "raw",
   "id": "689d0870-3d7b-45fe-8b12-f1ed1e8d474a",
   "metadata": {},
   "source": []
  },
  {
   "cell_type": "markdown",
   "id": "31ebb8f4-fbb4-49b5-b76a-83424f041733",
   "metadata": {},
   "source": [
    "### Regression Analysis"
   ]
  },
  {
   "cell_type": "code",
   "execution_count": 30,
   "id": "746e309f-60f8-4540-9ba7-3658707a2e7a",
   "metadata": {},
   "outputs": [],
   "source": [
    "X = sm.add_constant(df['BMI'])"
   ]
  },
  {
   "cell_type": "code",
   "execution_count": 37,
   "id": "121ffbbb-eedc-4d6f-9478-11c4dc8f3df0",
   "metadata": {},
   "outputs": [
    {
     "data": {
      "text/html": [
       "<div>\n",
       "<style scoped>\n",
       "    .dataframe tbody tr th:only-of-type {\n",
       "        vertical-align: middle;\n",
       "    }\n",
       "\n",
       "    .dataframe tbody tr th {\n",
       "        vertical-align: top;\n",
       "    }\n",
       "\n",
       "    .dataframe thead th {\n",
       "        text-align: right;\n",
       "    }\n",
       "</style>\n",
       "<table border=\"1\" class=\"dataframe\">\n",
       "  <thead>\n",
       "    <tr style=\"text-align: right;\">\n",
       "      <th></th>\n",
       "      <th>const</th>\n",
       "      <th>BMI</th>\n",
       "    </tr>\n",
       "  </thead>\n",
       "  <tbody>\n",
       "    <tr>\n",
       "      <th>0</th>\n",
       "      <td>1.0</td>\n",
       "      <td>33.770</td>\n",
       "    </tr>\n",
       "    <tr>\n",
       "      <th>1</th>\n",
       "      <td>1.0</td>\n",
       "      <td>34.100</td>\n",
       "    </tr>\n",
       "    <tr>\n",
       "      <th>2</th>\n",
       "      <td>1.0</td>\n",
       "      <td>26.315</td>\n",
       "    </tr>\n",
       "    <tr>\n",
       "      <th>3</th>\n",
       "      <td>1.0</td>\n",
       "      <td>38.665</td>\n",
       "    </tr>\n",
       "    <tr>\n",
       "      <th>4</th>\n",
       "      <td>1.0</td>\n",
       "      <td>35.625</td>\n",
       "    </tr>\n",
       "    <tr>\n",
       "      <th>...</th>\n",
       "      <td>...</td>\n",
       "      <td>...</td>\n",
       "    </tr>\n",
       "    <tr>\n",
       "      <th>1333</th>\n",
       "      <td>1.0</td>\n",
       "      <td>31.825</td>\n",
       "    </tr>\n",
       "    <tr>\n",
       "      <th>1334</th>\n",
       "      <td>1.0</td>\n",
       "      <td>26.885</td>\n",
       "    </tr>\n",
       "    <tr>\n",
       "      <th>1335</th>\n",
       "      <td>1.0</td>\n",
       "      <td>26.410</td>\n",
       "    </tr>\n",
       "    <tr>\n",
       "      <th>1336</th>\n",
       "      <td>1.0</td>\n",
       "      <td>36.960</td>\n",
       "    </tr>\n",
       "    <tr>\n",
       "      <th>1337</th>\n",
       "      <td>1.0</td>\n",
       "      <td>23.760</td>\n",
       "    </tr>\n",
       "  </tbody>\n",
       "</table>\n",
       "<p>1338 rows × 2 columns</p>\n",
       "</div>"
      ],
      "text/plain": [
       "      const     BMI\n",
       "0       1.0  33.770\n",
       "1       1.0  34.100\n",
       "2       1.0  26.315\n",
       "3       1.0  38.665\n",
       "4       1.0  35.625\n",
       "...     ...     ...\n",
       "1333    1.0  31.825\n",
       "1334    1.0  26.885\n",
       "1335    1.0  26.410\n",
       "1336    1.0  36.960\n",
       "1337    1.0  23.760\n",
       "\n",
       "[1338 rows x 2 columns]"
      ]
     },
     "execution_count": 37,
     "metadata": {},
     "output_type": "execute_result"
    }
   ],
   "source": [
    "X"
   ]
  },
  {
   "cell_type": "code",
   "execution_count": 31,
   "id": "ca7579e8-8fdb-4b36-9fff-229a0e5d3183",
   "metadata": {},
   "outputs": [],
   "source": [
    "y = df['FINE']"
   ]
  },
  {
   "cell_type": "code",
   "execution_count": 38,
   "id": "149a7399-ecf3-4a94-b114-2bf261a06519",
   "metadata": {},
   "outputs": [
    {
     "data": {
      "text/plain": [
       "0        1725.55230\n",
       "1        1137.01100\n",
       "2        2198.18985\n",
       "3        3393.35635\n",
       "4        2211.13075\n",
       "           ...     \n",
       "1333    16069.08475\n",
       "1334    29330.98315\n",
       "1335    14394.55790\n",
       "1336    49577.66240\n",
       "1337    26926.51440\n",
       "Name: FINE, Length: 1338, dtype: float64"
      ]
     },
     "execution_count": 38,
     "metadata": {},
     "output_type": "execute_result"
    }
   ],
   "source": [
    "y"
   ]
  },
  {
   "cell_type": "code",
   "execution_count": 41,
   "id": "a8936d86-47dd-40a0-bdaf-358415899315",
   "metadata": {},
   "outputs": [],
   "source": [
    "model = sm.OLS(y, X).fit()"
   ]
  },
  {
   "cell_type": "code",
   "execution_count": 39,
   "id": "1f94d827-7f00-4791-b879-a162e49c8f28",
   "metadata": {},
   "outputs": [
    {
     "data": {
      "text/plain": [
       "<statsmodels.regression.linear_model.RegressionResultsWrapper at 0x26b7de18a50>"
      ]
     },
     "execution_count": 39,
     "metadata": {},
     "output_type": "execute_result"
    }
   ],
   "source": [
    "model"
   ]
  },
  {
   "cell_type": "code",
   "execution_count": 40,
   "id": "5590aab6-3389-4bc0-9a82-43e17f271c17",
   "metadata": {},
   "outputs": [
    {
     "data": {
      "text/html": [
       "<table class=\"simpletable\">\n",
       "<caption>OLS Regression Results</caption>\n",
       "<tr>\n",
       "  <th>Dep. Variable:</th>          <td>FINE</td>       <th>  R-squared:         </th> <td>   0.039</td> \n",
       "</tr>\n",
       "<tr>\n",
       "  <th>Model:</th>                   <td>OLS</td>       <th>  Adj. R-squared:    </th> <td>   0.039</td> \n",
       "</tr>\n",
       "<tr>\n",
       "  <th>Method:</th>             <td>Least Squares</td>  <th>  F-statistic:       </th> <td>   54.71</td> \n",
       "</tr>\n",
       "<tr>\n",
       "  <th>Date:</th>             <td>Sun, 08 Sep 2024</td> <th>  Prob (F-statistic):</th> <td>2.46e-13</td> \n",
       "</tr>\n",
       "<tr>\n",
       "  <th>Time:</th>                 <td>22:58:14</td>     <th>  Log-Likelihood:    </th> <td> -14451.</td> \n",
       "</tr>\n",
       "<tr>\n",
       "  <th>No. Observations:</th>      <td>  1338</td>      <th>  AIC:               </th> <td>2.891e+04</td>\n",
       "</tr>\n",
       "<tr>\n",
       "  <th>Df Residuals:</th>          <td>  1336</td>      <th>  BIC:               </th> <td>2.892e+04</td>\n",
       "</tr>\n",
       "<tr>\n",
       "  <th>Df Model:</th>              <td>     1</td>      <th>                     </th>     <td> </td>    \n",
       "</tr>\n",
       "<tr>\n",
       "  <th>Covariance Type:</th>      <td>nonrobust</td>    <th>                     </th>     <td> </td>    \n",
       "</tr>\n",
       "</table>\n",
       "<table class=\"simpletable\">\n",
       "<tr>\n",
       "    <td></td>       <th>coef</th>     <th>std err</th>      <th>t</th>      <th>P>|t|</th>  <th>[0.025</th>    <th>0.975]</th>  \n",
       "</tr>\n",
       "<tr>\n",
       "  <th>const</th> <td> 1192.9372</td> <td> 1664.802</td> <td>    0.717</td> <td> 0.474</td> <td>-2072.974</td> <td> 4458.849</td>\n",
       "</tr>\n",
       "<tr>\n",
       "  <th>BMI</th>   <td>  393.8730</td> <td>   53.251</td> <td>    7.397</td> <td> 0.000</td> <td>  289.409</td> <td>  498.337</td>\n",
       "</tr>\n",
       "</table>\n",
       "<table class=\"simpletable\">\n",
       "<tr>\n",
       "  <th>Omnibus:</th>       <td>261.030</td> <th>  Durbin-Watson:     </th> <td>   1.850</td>\n",
       "</tr>\n",
       "<tr>\n",
       "  <th>Prob(Omnibus):</th> <td> 0.000</td>  <th>  Jarque-Bera (JB):  </th> <td> 431.091</td>\n",
       "</tr>\n",
       "<tr>\n",
       "  <th>Skew:</th>          <td> 1.297</td>  <th>  Prob(JB):          </th> <td>2.45e-94</td>\n",
       "</tr>\n",
       "<tr>\n",
       "  <th>Kurtosis:</th>      <td> 4.004</td>  <th>  Cond. No.          </th> <td>    160.</td>\n",
       "</tr>\n",
       "</table><br/><br/>Notes:<br/>[1] Standard Errors assume that the covariance matrix of the errors is correctly specified."
      ],
      "text/latex": [
       "\\begin{center}\n",
       "\\begin{tabular}{lclc}\n",
       "\\toprule\n",
       "\\textbf{Dep. Variable:}    &       FINE       & \\textbf{  R-squared:         } &     0.039   \\\\\n",
       "\\textbf{Model:}            &       OLS        & \\textbf{  Adj. R-squared:    } &     0.039   \\\\\n",
       "\\textbf{Method:}           &  Least Squares   & \\textbf{  F-statistic:       } &     54.71   \\\\\n",
       "\\textbf{Date:}             & Sun, 08 Sep 2024 & \\textbf{  Prob (F-statistic):} &  2.46e-13   \\\\\n",
       "\\textbf{Time:}             &     22:58:14     & \\textbf{  Log-Likelihood:    } &   -14451.   \\\\\n",
       "\\textbf{No. Observations:} &        1338      & \\textbf{  AIC:               } & 2.891e+04   \\\\\n",
       "\\textbf{Df Residuals:}     &        1336      & \\textbf{  BIC:               } & 2.892e+04   \\\\\n",
       "\\textbf{Df Model:}         &           1      & \\textbf{                     } &             \\\\\n",
       "\\textbf{Covariance Type:}  &    nonrobust     & \\textbf{                     } &             \\\\\n",
       "\\bottomrule\n",
       "\\end{tabular}\n",
       "\\begin{tabular}{lcccccc}\n",
       "               & \\textbf{coef} & \\textbf{std err} & \\textbf{t} & \\textbf{P$> |$t$|$} & \\textbf{[0.025} & \\textbf{0.975]}  \\\\\n",
       "\\midrule\n",
       "\\textbf{const} &    1192.9372  &     1664.802     &     0.717  &         0.474        &    -2072.974    &     4458.849     \\\\\n",
       "\\textbf{BMI}   &     393.8730  &       53.251     &     7.397  &         0.000        &      289.409    &      498.337     \\\\\n",
       "\\bottomrule\n",
       "\\end{tabular}\n",
       "\\begin{tabular}{lclc}\n",
       "\\textbf{Omnibus:}       & 261.030 & \\textbf{  Durbin-Watson:     } &    1.850  \\\\\n",
       "\\textbf{Prob(Omnibus):} &   0.000 & \\textbf{  Jarque-Bera (JB):  } &  431.091  \\\\\n",
       "\\textbf{Skew:}          &   1.297 & \\textbf{  Prob(JB):          } & 2.45e-94  \\\\\n",
       "\\textbf{Kurtosis:}      &   4.004 & \\textbf{  Cond. No.          } &     160.  \\\\\n",
       "\\bottomrule\n",
       "\\end{tabular}\n",
       "%\\caption{OLS Regression Results}\n",
       "\\end{center}\n",
       "\n",
       "Notes: \\newline\n",
       " [1] Standard Errors assume that the covariance matrix of the errors is correctly specified."
      ],
      "text/plain": [
       "<class 'statsmodels.iolib.summary.Summary'>\n",
       "\"\"\"\n",
       "                            OLS Regression Results                            \n",
       "==============================================================================\n",
       "Dep. Variable:                   FINE   R-squared:                       0.039\n",
       "Model:                            OLS   Adj. R-squared:                  0.039\n",
       "Method:                 Least Squares   F-statistic:                     54.71\n",
       "Date:                Sun, 08 Sep 2024   Prob (F-statistic):           2.46e-13\n",
       "Time:                        22:58:14   Log-Likelihood:                -14451.\n",
       "No. Observations:                1338   AIC:                         2.891e+04\n",
       "Df Residuals:                    1336   BIC:                         2.892e+04\n",
       "Df Model:                           1                                         \n",
       "Covariance Type:            nonrobust                                         \n",
       "==============================================================================\n",
       "                 coef    std err          t      P>|t|      [0.025      0.975]\n",
       "------------------------------------------------------------------------------\n",
       "const       1192.9372   1664.802      0.717      0.474   -2072.974    4458.849\n",
       "BMI          393.8730     53.251      7.397      0.000     289.409     498.337\n",
       "==============================================================================\n",
       "Omnibus:                      261.030   Durbin-Watson:                   1.850\n",
       "Prob(Omnibus):                  0.000   Jarque-Bera (JB):              431.091\n",
       "Skew:                           1.297   Prob(JB):                     2.45e-94\n",
       "Kurtosis:                       4.004   Cond. No.                         160.\n",
       "==============================================================================\n",
       "\n",
       "Notes:\n",
       "[1] Standard Errors assume that the covariance matrix of the errors is correctly specified.\n",
       "\"\"\""
      ]
     },
     "execution_count": 40,
     "metadata": {},
     "output_type": "execute_result"
    }
   ],
   "source": [
    "model.summary()"
   ]
  },
  {
   "cell_type": "code",
   "execution_count": null,
   "id": "dc55239c-a47b-408d-a1a5-066cdb12a05a",
   "metadata": {},
   "outputs": [],
   "source": []
  },
  {
   "cell_type": "code",
   "execution_count": null,
   "id": "4288db7e-bce7-4a2f-894d-a3dfac2dab4e",
   "metadata": {},
   "outputs": [],
   "source": []
  }
 ],
 "metadata": {
  "kernelspec": {
   "display_name": "Python 3 (ipykernel)",
   "language": "python",
   "name": "python3"
  },
  "language_info": {
   "codemirror_mode": {
    "name": "ipython",
    "version": 3
   },
   "file_extension": ".py",
   "mimetype": "text/x-python",
   "name": "python",
   "nbconvert_exporter": "python",
   "pygments_lexer": "ipython3",
   "version": "3.11.7"
  }
 },
 "nbformat": 4,
 "nbformat_minor": 5
}
